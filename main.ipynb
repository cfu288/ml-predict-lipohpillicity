{
 "cells": [
  {
   "cell_type": "markdown",
   "metadata": {},
   "source": [
    "### Useful links\n",
    "[DIY-Drug-Discovery-using-molecular-fingerprints-and-machine-learning](http://moreisdifferent.com/2017/9/21/DIY-Drug-Discovery-using-molecular-fingerprints-and-machine-learning-for-solubility-prediction/)\n",
    "\n",
    "[RDKit_Overview](http://www.rdkit.org/RDKit_Overview.pdf)"
   ]
  },
  {
   "cell_type": "code",
   "execution_count": 1,
   "metadata": {},
   "outputs": [],
   "source": [
    "from rdkit import Chem\n",
    "from rdkit.Chem.EState import Fingerprinter\n",
    "from rdkit.Chem import Descriptors\n",
    "from rdkit.Chem.rdmolops import RDKFingerprint\n",
    "from rdkit.Chem import Draw\n",
    "from rdkit.Chem.Draw import IPythonConsole\n",
    "\n",
    "import pandas\n",
    "import numpy"
   ]
  },
  {
   "cell_type": "code",
   "execution_count": 2,
   "metadata": {},
   "outputs": [],
   "source": [
    "dataset = pandas.read_excel(\"dataset.xlsx\")"
   ]
  },
  {
   "cell_type": "code",
   "execution_count": 3,
   "metadata": {},
   "outputs": [
    {
     "name": "stdout",
     "output_type": "stream",
     "text": [
      "Training set has 904 items, test set has 226 items\n"
     ]
    }
   ],
   "source": [
    "# From the main dataset, split into training and test dataframes\n",
    "training_set = dataset.loc[dataset['Tr=traning set\\nTe=test set'] == \"Tr\"]\n",
    "test_set = dataset.loc[dataset['Tr=traning set\\nTe=test set'] == \"Te\"]\n",
    "\n",
    "# Trim Wang's (2015) predicted values since we are calculating these ourselves\n",
    "training_set = training_set.iloc[:,0:4]\n",
    "test_set = test_set.iloc[:,0:4]\n",
    "\n",
    "# Convert SMILES into molecule objects in new col\n",
    "# training_set['Mol'] = training_set['SMILES structure'].apply(Chem.MolFromSmiles)\n",
    "# test_set['Mol'] = training_set['SMILES structure'].apply(Chem.MolFromSmiles)\n",
    "\n",
    "training_set.head()\n",
    "print(\"Training set has {} items, test set has {} items\".format(training_set.iloc[:,0].count(), test_set.iloc[:,0].count()))"
   ]
  },
  {
   "cell_type": "code",
   "execution_count": 4,
   "metadata": {},
   "outputs": [
    {
     "data": {
      "text/plain": [
       "['NO',\n",
       " 'Tr=traning set\\nTe=test set',\n",
       " 'SMILES structure',\n",
       " 'experimental logD7.4']"
      ]
     },
     "execution_count": 4,
     "metadata": {},
     "output_type": "execute_result"
    }
   ],
   "source": [
    "list(training_set)"
   ]
  },
  {
   "cell_type": "code",
   "execution_count": 5,
   "metadata": {},
   "outputs": [
    {
     "data": {
      "text/html": [
       "<div>\n",
       "<style scoped>\n",
       "    .dataframe tbody tr th:only-of-type {\n",
       "        vertical-align: middle;\n",
       "    }\n",
       "\n",
       "    .dataframe tbody tr th {\n",
       "        vertical-align: top;\n",
       "    }\n",
       "\n",
       "    .dataframe thead th {\n",
       "        text-align: right;\n",
       "    }\n",
       "</style>\n",
       "<table border=\"1\" class=\"dataframe\">\n",
       "  <thead>\n",
       "    <tr style=\"text-align: right;\">\n",
       "      <th></th>\n",
       "      <th>NO</th>\n",
       "      <th>Tr=traning set\n",
       "Te=test set</th>\n",
       "      <th>SMILES structure</th>\n",
       "      <th>experimental logD7.4</th>\n",
       "    </tr>\n",
       "  </thead>\n",
       "  <tbody>\n",
       "    <tr>\n",
       "      <th>1</th>\n",
       "      <td>A-logD7.4-100</td>\n",
       "      <td>Tr</td>\n",
       "      <td>Fc1cc2c(N(C=C(C(O)=O)C2=O)C2CC2)cc1N1CCNCC1</td>\n",
       "      <td>-0.96</td>\n",
       "    </tr>\n",
       "    <tr>\n",
       "      <th>2</th>\n",
       "      <td>A-logD7.4-101</td>\n",
       "      <td>Tr</td>\n",
       "      <td>S1(=O)(=O)N(CCN1C)c1cc2c([nH]cc2CCN(C)C)cc1</td>\n",
       "      <td>-0.92</td>\n",
       "    </tr>\n",
       "    <tr>\n",
       "      <th>3</th>\n",
       "      <td>A-logD7.4-104</td>\n",
       "      <td>Tr</td>\n",
       "      <td>OC=1C(=O)C=CN(CCCO)C=1C</td>\n",
       "      <td>-0.90</td>\n",
       "    </tr>\n",
       "    <tr>\n",
       "      <th>4</th>\n",
       "      <td>A-logD7.4-105</td>\n",
       "      <td>Tr</td>\n",
       "      <td>Fc1cc2c(N(C=C(C(O)=O)C2=O)c2ccccc2C)cc1N1CCNCC1</td>\n",
       "      <td>-0.83</td>\n",
       "    </tr>\n",
       "    <tr>\n",
       "      <th>5</th>\n",
       "      <td>A-logD7.4-106</td>\n",
       "      <td>Tr</td>\n",
       "      <td>OC=1C(=O)C=CN(CCC(=O)NCC)C=1C</td>\n",
       "      <td>-0.82</td>\n",
       "    </tr>\n",
       "  </tbody>\n",
       "</table>\n",
       "</div>"
      ],
      "text/plain": [
       "              NO Tr=traning set\\nTe=test set  \\\n",
       "1  A-logD7.4-100                          Tr   \n",
       "2  A-logD7.4-101                          Tr   \n",
       "3  A-logD7.4-104                          Tr   \n",
       "4  A-logD7.4-105                          Tr   \n",
       "5  A-logD7.4-106                          Tr   \n",
       "\n",
       "                                  SMILES structure  experimental logD7.4  \n",
       "1      Fc1cc2c(N(C=C(C(O)=O)C2=O)C2CC2)cc1N1CCNCC1                 -0.96  \n",
       "2      S1(=O)(=O)N(CCN1C)c1cc2c([nH]cc2CCN(C)C)cc1                 -0.92  \n",
       "3                          OC=1C(=O)C=CN(CCCO)C=1C                 -0.90  \n",
       "4  Fc1cc2c(N(C=C(C(O)=O)C2=O)c2ccccc2C)cc1N1CCNCC1                 -0.83  \n",
       "5                    OC=1C(=O)C=CN(CCC(=O)NCC)C=1C                 -0.82  "
      ]
     },
     "execution_count": 5,
     "metadata": {},
     "output_type": "execute_result"
    }
   ],
   "source": [
    "training_set.head()"
   ]
  },
  {
   "cell_type": "markdown",
   "metadata": {},
   "source": [
    "## Fingerprinting molecules\n",
    "    A way to encode and represent molecules in a format that 1) makes it easy to compare how similar or different two molecules 2) uniquely identify that molecule 3) allow for a quick and efficent search of the molecule's sub-structure.\n",
    "    \n",
    "    Fingerprinting is a technique traditionally used for molecule search and screening in large chemoinformatic databases, where many comparisons must be made a second. In this project, I'm hoping to use these techniques as a way to uniquely encode a molecule in a way that is easy to feed into a ML algorithm while also retaining the specific features/descriptors of that molecule which may contribute to its lipophillicity.\n",
    "\n",
    "    Essentially a hash.\n",
    "\n",
    "#### Quick bit on fingerprints vs structural keys\n",
    "    \"A fingerprint is a boolean array, or bitmap, but unlike a structural key there is no assigned meaning to each bit. Your own fingerprint is very characteristic of you, yet there is no meaning to any particular feature. Similarly, a pattern's fingerprint characterizes the pattern, but the meaning of any particular bit is not well defined... In spite of the difference between the meaning of a fingerprint's bits and a structural key's bits, fingerprints share an important feature with structural keys: If a pattern is a substructure of a molecule, every bit that is set in the pattern's fingerprint will be set in the molecule's fingerprint.\"\n",
    "        \n",
    "[Source](http://www.daylight.com/dayhtml/doc/theory/theory.finger.html)\n",
    "\n",
    "### Which fingerprint should I use?\n",
    "    Good q, just gonna pick one and run with it. I'll come back to see if theres a better fitting one later.\n",
    "[Possible source](https://www.rdkit.org/UGM/2012/Landrum_RDKit_UGM.Fingerprints.Final.pptx.pdf)\n",
    " "
   ]
  },
  {
   "cell_type": "markdown",
   "metadata": {},
   "source": [
    "## Experiment with RDKit on single molecule"
   ]
  },
  {
   "cell_type": "code",
   "execution_count": 22,
   "metadata": {},
   "outputs": [
    {
     "data": {
      "image/png": "[encoded data removed]",
      "text/plain": [
       "<rdkit.Chem.rdchem.Mol at 0x7feb3c84eb70>"
      ]
     },
     "execution_count": 22,
     "metadata": {},
     "output_type": "execute_result"
    }
   ],
   "source": [
    "# taking SMILE from `training_set['SMILES structure'].iloc[1]`\n",
    "molecule = Chem.MolFromSmiles('S1(=O)(=O)N(CCN1C)c1cc2c([nH]cc2CCN(C)C)cc1')\n",
    "\n",
    "# Lets generate a rdk fingerprint, which is really a DataStructs.ExplicitBitVect\n",
    "RDK_fp = RDKFingerprint(mol, fpSize=512)\n",
    "\n",
    "# Draw the molecule\n",
    "molecule"
   ]
  },
  {
   "cell_type": "markdown",
   "metadata": {},
   "source": [
    "## Back to working with training_set"
   ]
  },
  {
   "cell_type": "code",
   "execution_count": 25,
   "metadata": {},
   "outputs": [],
   "source": [
    "# Make an ndarray of lipophillicity values\n",
    "lip_val_ndarr = training_set['experimental logD7.4'].values\n",
    "# Make an array (really a pandas series) of fingerprints\n",
    "mol_series = training_set['SMILES structure'].apply(Chem.MolFromSmiles)\n",
    "RDK_fp_arr = mol_arr.apply(lambda mol: RDKFingerprint(mol, fpSize=512))"
   ]
  }
 ],
 "metadata": {
  "kernelspec": {
   "display_name": "Python 3",
   "language": "python",
   "name": "python3"
  },
  "language_info": {
   "codemirror_mode": {
    "name": "ipython",
    "version": 3
   },
   "file_extension": ".py",
   "mimetype": "text/x-python",
   "name": "python",
   "nbconvert_exporter": "python",
   "pygments_lexer": "ipython3",
   "version": "3.6.6"
  }
 },
 "nbformat": 4,
 "nbformat_minor": 2
}
