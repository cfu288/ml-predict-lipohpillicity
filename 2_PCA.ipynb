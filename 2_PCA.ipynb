{
 "cells": [
  {
   "cell_type": "code",
   "execution_count": 1,
   "metadata": {},
   "outputs": [
    {
     "name": "stdout",
     "output_type": "stream",
     "text": [
      "Automatically created module for IPython interactive environment\n"
     ]
    }
   ],
   "source": [
    "print(__doc__)\n",
    "from collections import namedtuple\n",
    "import matplotlib.pyplot as plt\n",
    "import pandas as pd\n",
    "import numpy as np\n",
    "from sklearn import datasets\n",
    "from sklearn.decomposition import PCA\n",
    "from sklearn.discriminant_analysis import LinearDiscriminantAnalysis\n",
    "from rdkit import Chem\n",
    "from rdkit.Chem.EState import Fingerprinter\n",
    "from rdkit.Chem import Descriptors\n",
    "from rdkit.Chem.rdmolops import RDKFingerprint\n",
    "from rdkit.Chem import Draw\n",
    "from rdkit.Chem.Draw import IPythonConsole"
   ]
  },
  {
   "cell_type": "code",
   "execution_count": 2,
   "metadata": {},
   "outputs": [],
   "source": [
    "dataset_read = pd.read_excel(\"dataset.xlsx\")\n",
    "dataset = dataset_read.iloc[:,0:4]\n",
    "training_set = dataset.loc[dataset['Tr=traning set\\nTe=test set'] == \"Tr\"]\n",
    "test_set = dataset.loc[dataset['Tr=traning set\\nTe=test set'] == \"Te\"]"
   ]
  },
  {
   "cell_type": "code",
   "execution_count": 3,
   "metadata": {},
   "outputs": [],
   "source": [
    "# from sklearn.model_selection import train_test_split\n",
    "# dataset_read = pd.read_excel(\"dataset.xlsx\")\n",
    "# dataset = dataset_read.iloc[:,0:4]\n",
    "# training_set, test_set = train_test_split(dataset.loc[dataset['Tr=traning set\\nTe=test set'] == \"Tr\"], test_size=0.5)\n",
    "# training_set.head(3)"
   ]
  },
  {
   "cell_type": "code",
   "execution_count": 4,
   "metadata": {},
   "outputs": [],
   "source": [
    "fpSize=4096\n",
    "xytuple = namedtuple('xytuple', ['x', 'y'])\n",
    "def df_to_xy(df):\n",
    "    ### return numpy of arrays\n",
    "    # Make an arr of lipophillicity values\n",
    "    lip_arr = df['experimental logD7.4'].values\n",
    "    # Make an arr of fingerprints\n",
    "    mol_series = df['SMILES structure'].apply(Chem.MolFromSmiles)\n",
    "    RDK_fp_series = mol_series.apply(lambda mol: np.array(RDKFingerprint(mol, fpSize=fpSize)))\n",
    "    RDK_fp_arr = np.matrix(RDK_fp_series.tolist())\n",
    "    return xytuple(x=RDK_fp_arr, y=lip_arr)"
   ]
  },
  {
   "cell_type": "code",
   "execution_count": 5,
   "metadata": {},
   "outputs": [],
   "source": [
    "### Prepare training set and test set to feed into ml algo\n",
    "X_train, y_train = df_to_xy(training_set)\n",
    "X_test, y_test = df_to_xy(test_set)"
   ]
  },
  {
   "cell_type": "code",
   "execution_count": 10,
   "metadata": {},
   "outputs": [
    {
     "name": "stderr",
     "output_type": "stream",
     "text": [
      "/home/cfu288/anaconda3/envs/rdkit-env/lib/python3.6/site-packages/sklearn/utils/validation.py:590: DataConversionWarning: Data with input dtype int64 was converted to float64 by MinMaxScaler.\n",
      "  warnings.warn(msg, DataConversionWarning)\n"
     ]
    }
   ],
   "source": [
    "## Data normalization/scaling\n",
    "from sklearn.preprocessing import Normalizer, MinMaxScaler\n",
    "\n",
    "total_df = np.concatenate((X_train,X_test))\n",
    "lip = np.concatenate((y_train,y_test))\n",
    "\n",
    "std_scale = MinMaxScaler().fit(total_df)\n",
    "X_train_sc = std_scale.transform(X_train)\n",
    "X_test_sc  = std_scale.transform(X_test)\n",
    "total_df_s = std_scale.transform(total_df)\n",
    "n_scale = Normalizer().fit(total_df_s)\n",
    "X_train_n = n_scale.transform(X_train_sc)\n",
    "X_test_n  = n_scale.transform(X_test_sc)\n",
    "\n",
    "\n",
    "enviorment_data = namedtuple('enviorment_data', ['X_train', 'y_train', 'X_test', 'y_test'])\n",
    "env = enviorment_data(X_train=X_train_n, y_train=None, X_test=X_test_n, y_test=None)"
   ]
  },
  {
   "cell_type": "code",
   "execution_count": 11,
   "metadata": {},
   "outputs": [
    {
     "data": {
      "text/html": [
       "<div>\n",
       "<style scoped>\n",
       "    .dataframe tbody tr th:only-of-type {\n",
       "        vertical-align: middle;\n",
       "    }\n",
       "\n",
       "    .dataframe tbody tr th {\n",
       "        vertical-align: top;\n",
       "    }\n",
       "\n",
       "    .dataframe thead th {\n",
       "        text-align: right;\n",
       "    }\n",
       "</style>\n",
       "<table border=\"1\" class=\"dataframe\">\n",
       "  <thead>\n",
       "    <tr style=\"text-align: right;\">\n",
       "      <th></th>\n",
       "      <th>PC1</th>\n",
       "      <th>PC2</th>\n",
       "    </tr>\n",
       "  </thead>\n",
       "  <tbody>\n",
       "    <tr>\n",
       "      <th>0</th>\n",
       "      <td>0.028378</td>\n",
       "      <td>-0.026511</td>\n",
       "    </tr>\n",
       "    <tr>\n",
       "      <th>1</th>\n",
       "      <td>-0.066069</td>\n",
       "      <td>0.028514</td>\n",
       "    </tr>\n",
       "    <tr>\n",
       "      <th>2</th>\n",
       "      <td>0.804169</td>\n",
       "      <td>0.048275</td>\n",
       "    </tr>\n",
       "    <tr>\n",
       "      <th>3</th>\n",
       "      <td>-0.020718</td>\n",
       "      <td>-0.035580</td>\n",
       "    </tr>\n",
       "    <tr>\n",
       "      <th>4</th>\n",
       "      <td>0.720158</td>\n",
       "      <td>0.042210</td>\n",
       "    </tr>\n",
       "  </tbody>\n",
       "</table>\n",
       "</div>"
      ],
      "text/plain": [
       "        PC1       PC2\n",
       "0  0.028378 -0.026511\n",
       "1 -0.066069  0.028514\n",
       "2  0.804169  0.048275\n",
       "3 -0.020718 -0.035580\n",
       "4  0.720158  0.042210"
      ]
     },
     "execution_count": 11,
     "metadata": {},
     "output_type": "execute_result"
    }
   ],
   "source": [
    "X = env.X_train\n",
    "pca = PCA(n_components=2)\n",
    "X_r = pca.fit(X).transform(X)\n",
    "\n",
    "X = env.X_test\n",
    "X_r1 = pca.transform(X)\n",
    "\n",
    "pd.DataFrame(X_r, columns=['PC1','PC2']).head()"
   ]
  },
  {
   "cell_type": "code",
   "execution_count": 12,
   "metadata": {},
   "outputs": [
    {
     "name": "stdout",
     "output_type": "stream",
     "text": [
      "explained variance ratio (first two components): [0.05715731 0.04784566]\n"
     ]
    }
   ],
   "source": [
    "# Percentage of variance explained for each components\n",
    "print('explained variance ratio (first two components): %s'\n",
    "      % str(pca.explained_variance_ratio_))"
   ]
  },
  {
   "cell_type": "code",
   "execution_count": 13,
   "metadata": {},
   "outputs": [
    {
     "data": {
      "image/png": "[encoded data removed]",
      "text/plain": [
       "<Figure size 432x288 with 1 Axes>"
      ]
     },
     "metadata": {
      "needs_background": "light"
     },
     "output_type": "display_data"
    }
   ],
   "source": [
    "# Gime us an image that can help us visualize how similar each molecule is to each other, \n",
    "# as well as how similar the training set is to the test set\n",
    "plt.figure()\n",
    "lw = 1\n",
    "\n",
    "plt.scatter(X_r[:, 0], X_r[:, 1], alpha=.2, lw=lw, color='green', label='training')\n",
    "plt.scatter(X_r1[:, 0], X_r1[:, 1], alpha=.3, lw=lw, color='blue', label='test')\n",
    "plt.legend(loc='best', shadow=False, scatterpoints=1)\n",
    "plt.xlabel(\"PC1\")\n",
    "plt.ylabel(\"PC2\")\n",
    "plt.title('PCA of dataset')\n",
    "\n",
    "plt.show()"
   ]
  }
 ],
 "metadata": {
  "kernelspec": {
   "display_name": "Python 3",
   "language": "python",
   "name": "python3"
  },
  "language_info": {
   "codemirror_mode": {
    "name": "ipython",
    "version": 3
   },
   "file_extension": ".py",
   "mimetype": "text/x-python",
   "name": "python",
   "nbconvert_exporter": "python",
   "pygments_lexer": "ipython3",
   "version": "3.6.6"
  }
 },
 "nbformat": 4,
 "nbformat_minor": 2
}
