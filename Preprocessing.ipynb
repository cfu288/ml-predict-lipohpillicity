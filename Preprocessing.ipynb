{
 "cells": [
  {
   "cell_type": "code",
   "execution_count": 1,
   "metadata": {},
   "outputs": [
    {
     "name": "stdout",
     "output_type": "stream",
     "text": [
      "Automatically created module for IPython interactive environment\n"
     ]
    }
   ],
   "source": [
    "print(__doc__)\n",
    "\n",
    "from collections import namedtuple\n",
    "\n",
    "import pandas as pd\n",
    "import numpy as np\n",
    "import matplotlib.pyplot as plt\n",
    "\n",
    "from sklearn.preprocessing import Normalizer, MinMaxScaler\n",
    "from sklearn.metrics import mean_squared_error, r2_score\n",
    "from sklearn import datasets\n",
    "\n",
    "from rdkit import Chem\n",
    "from rdkit.Chem.EState import Fingerprinter\n",
    "from rdkit.Chem import Descriptors\n",
    "from rdkit.Chem.rdmolops import RDKFingerprint"
   ]
  },
  {
   "cell_type": "code",
   "execution_count": 2,
   "metadata": {},
   "outputs": [],
   "source": [
    "xytuple = namedtuple('xytuple', ['x', 'y'])\n",
    "\n",
    "def df_to_xy(df):\n",
    "    ''' Processes a dataset and returns a tuple of the fingerprint and lipophilicity columns.\n",
    "    \n",
    "    Args:\n",
    "        df: The dataset dataframe with molecular smiles and lipophilicity values.\n",
    "    Returns:\n",
    "        Named tuple of the fingerprint column as \"x\" and lipophilicity column as \"y\".\n",
    "    '''\n",
    "    # Make an np arr of lipophillicity values\n",
    "    lip_arr = df['experimental logD7.4'].values\n",
    "    # Make an np arr of fingerprints\n",
    "    mol_series = df['SMILES structure'].apply(Chem.MolFromSmiles)\n",
    "    RDK_fp_series = mol_series.apply(lambda mol: np.array(RDKFingerprint(mol, fpSize=4096)))\n",
    "    RDK_fp_arr = np.matrix(RDK_fp_series.tolist())\n",
    "    return xytuple(x=RDK_fp_arr, y=lip_arr)"
   ]
  },
  {
   "cell_type": "code",
   "execution_count": 4,
   "metadata": {},
   "outputs": [],
   "source": [
    "processedtuple = namedtuple('processedtuple', ['X_train', 'y_train', 'X_test', 'y_test'])\n",
    "def preprocess(filename=\"dataset.xlsx\"):\n",
    "    ''' Reads in dataset, performs preprocesing, and returns X_train, y_train, X_test, and y_test columns.\n",
    "    \n",
    "    Args:\n",
    "        filename (optional): The filename to read the dataset from.\n",
    "    Returns:\n",
    "        Named tuple of X_train, y_train, X_test, and y_test.\n",
    "    '''\n",
    "    dataset_read = pd.read_excel(filename)\n",
    "    dataset = dataset_read.iloc[:,0:4]\n",
    "    training_set = dataset.loc[dataset['Tr=traning set\\nTe=test set'] == \"Tr\"]\n",
    "    test_set = dataset.loc[dataset['Tr=traning set\\nTe=test set'] == \"Te\"]\n",
    "    X_train, y_train = df_to_xy(training_set)\n",
    "    X_test, y_test = df_to_xy(test_set)\n",
    "    \n",
    "    mm_scale = MinMaxScaler().fit(X_train)\n",
    "    X_train_sc = mm_scale.transform(X_train)\n",
    "    X_test_sc  = mm_scale.transform(X_test)\n",
    "    n_scale = Normalizer().fit(X_train_sc)\n",
    "    X_train_n = n_scale.transform(X_train_sc)\n",
    "    X_test_n  = n_scale.transform(X_test_sc)\n",
    "    return processedtuple(X_train=X_train_n, y_train=y_train, X_test=X_test_n, y_test=y_test)"
   ]
  },
  {
   "cell_type": "code",
   "execution_count": 5,
   "metadata": {},
   "outputs": [],
   "source": [
    "from sklearn.metrics import mean_squared_error, r2_score\n",
    "# Print formatting\n",
    "\n",
    "class color:\n",
    "   RED = '\\033[91m'\n",
    "   BOLD = '\\033[1m'\n",
    "   UNDERLINE = '\\033[4m'\n",
    "   END = '\\033[0m'\n",
    "    \n",
    "def test_model(model, name, data):\n",
    "    ''' Runs a sklearn model with provided data and prints out the results\n",
    "    \n",
    "    Args:\n",
    "        model: sklearn model to use\n",
    "        name: Name to use when results are printed\n",
    "        data: dictionary of data to use with model with keys X_train, y_train, X_test, and y_test\n",
    "    Returns:\n",
    "        model\n",
    "    '''\n",
    "    print(\"\\n{}{}{}{}\\n\".format(color.BOLD, color.UNDERLINE, name, color.END))\n",
    "    model.fit(data[\"X_train\"], data[\"y_train\"])\n",
    "\n",
    "    # predict on the unseen dataset\n",
    "    y_pred_train = model.predict(data[\"X_train\"])\n",
    "    y_pred = model.predict(data[\"X_test\"])\n",
    "    mse = mean_squared_error(y_pred, data[\"y_test\"])\n",
    "    mse_train = mean_squared_error(y_pred_train, data[\"y_train\"])\n",
    "    rmse = np.sqrt(mse)\n",
    "    r2 = model.score(data[\"X_test\"], data[\"y_test\"])\n",
    "\n",
    "    # R-squared is a goodness-of-fit measubre for linear regression models, how much variance of the data vs our model\n",
    "    # Explained variance score: 1 is perfect prediction\n",
    "    print(\"{}r^2:{} {:.3f}\".format(color.BOLD, color.END, r2))\n",
    "    print('{}RMSE:{} {:.3f}'.format(color.BOLD, color.END, rmse))\n",
    "    # We want a low mse\n",
    "    print(\"{}MSE train:{} {:.3f}\".format(color.BOLD, color.END, mse_train))\n",
    "    print(\"{}MSE test:{} {:.3f}\".format(color.BOLD, color.END, mse))\n",
    "    \n",
    "    print('So, in our model, {:.3f}% of the variability in Y can be explained using X. '.format(model.score(data['X_test'], data['y_test'])*100))\n",
    "    print('Our model predicted most of the lipophilicity values in the test set within {:.2f} of the real value.'.format(rmse))\n",
    "\n",
    "    ## Create a residual plot\n",
    "    # Plot outputs training data\n",
    "    plt.scatter(data[\"y_train\"], y_pred_train, c='b',s=40, alpha=.5)\n",
    "    # Plot outputs test data\n",
    "    plt.scatter(data[\"y_test\"],y_pred, c='g',s=40, alpha=.5)\n",
    "    plt.xlabel(\"Actual lipo\")\n",
    "    plt.ylabel(\"Predicted lipo\")\n",
    "    plt.show()\n",
    "    plt.scatter(model.predict(data[\"X_train\"]), model.predict(data[\"X_train\"])-data[\"y_train\"], c='b',s=40, alpha=.5)\n",
    "    plt.scatter(model.predict(data[\"X_test\"]), model.predict(data[\"X_test\"])-data[\"y_test\"], c='g',s=40, alpha=.5)\n",
    "    plt.title(\"Residual plot using training(blue) and test(green) data\")\n",
    "    plt.ylabel(\"Residuals\")\n",
    "    return model"
   ]
  }
 ],
 "metadata": {
  "kernelspec": {
   "display_name": "Python 3",
   "language": "python",
   "name": "python3"
  },
  "language_info": {
   "codemirror_mode": {
    "name": "ipython",
    "version": 3
   },
   "file_extension": ".py",
   "mimetype": "text/x-python",
   "name": "python",
   "nbconvert_exporter": "python",
   "pygments_lexer": "ipython3",
   "version": "3.6.6"
  }
 },
 "nbformat": 4,
 "nbformat_minor": 2
}
